{
 "cells": [
  {
   "cell_type": "markdown",
   "id": "0859cc1f",
   "metadata": {},
   "source": [
    "# Day 1"
   ]
  },
  {
   "cell_type": "markdown",
   "id": "041f05e7",
   "metadata": {},
   "source": [
    "## 1480. Running Sum of 1d Array\n",
    "Given an array nums. We define a running sum of an array as runningSum[i] = sum(nums[0]…nums[i]).\n",
    "\n",
    "Return the running sum of nums."
   ]
  },
  {
   "cell_type": "code",
   "execution_count": 19,
   "id": "6a0aff85",
   "metadata": {},
   "outputs": [],
   "source": [
    "nums=[1,2,3,4]\n",
    "runningSum=[nums[0]]\n",
    "for i in range(1,len(nums)):\n",
    "    runningSum.append(runningSum[i-1]+nums[i])"
   ]
  },
  {
   "cell_type": "markdown",
   "id": "cac79f17",
   "metadata": {},
   "source": [
    "## 724. Find Pivot Index\n",
    "Given an array of integers nums, calculate the pivot index of this array.\n",
    "\n",
    "The pivot index is the index where the sum of all the numbers strictly to the left of the index is equal to the sum of all the numbers strictly to the index's right.\n",
    "\n",
    "If the index is on the left edge of the array, then the left sum is 0 because there are no elements to the left. This also applies to the right edge of the array.\n",
    "\n",
    "Return the leftmost pivot index. If no such index exists, return -1.\n"
   ]
  },
  {
   "cell_type": "code",
   "execution_count": 17,
   "id": "a38c0a49",
   "metadata": {},
   "outputs": [],
   "source": [
    "nums=[2,1,-1]\n",
    "for i in range(0,len(nums)):\n",
    "    if(sum(nums[:i])==sum(nums[i+1:])):\n",
    "        pivot=i\n",
    "        break\n",
    "    else:\n",
    "        pivot=-1\n",
    "        "
   ]
  }
 ],
 "metadata": {
  "kernelspec": {
   "display_name": "Python 3 (ipykernel)",
   "language": "python",
   "name": "python3"
  },
  "language_info": {
   "codemirror_mode": {
    "name": "ipython",
    "version": 3
   },
   "file_extension": ".py",
   "mimetype": "text/x-python",
   "name": "python",
   "nbconvert_exporter": "python",
   "pygments_lexer": "ipython3",
   "version": "3.10.4"
  }
 },
 "nbformat": 4,
 "nbformat_minor": 5
}
