{
 "cells": [
  {
   "cell_type": "markdown",
   "id": "30e42c3a-ac46-4551-9ec6-2f55cf735fdf",
   "metadata": {},
   "source": [
    "Given an integer array nums sorted in non-decreasing order, remove some duplicates in-place such that each unique element appears at most twice. The relative order of the elements should be kept the same.\n",
    "\n",
    "Since it is impossible to change the length of the array in some languages, you must instead have the result be placed in the first part of the array nums. More formally, if there are k elements after removing the duplicates, then the first k elements of nums should hold the final result. It does not matter what you leave beyond the first k elements.\n",
    "\n",
    "Return k after placing the final result in the first k slots of nums.\n",
    "\n",
    "Do not allocate extra space for another array. You must do this by modifying the input array in-place with O(1) extra memory."
   ]
  },
  {
   "cell_type": "code",
   "execution_count": null,
   "id": "ffde05ff-d0e8-4b1f-b34c-6139db68b2db",
   "metadata": {},
   "outputs": [],
   "source": [
    "nums = [1,1,1,2,2,3]"
   ]
  },
  {
   "cell_type": "code",
   "execution_count": null,
   "id": "d44ab851-46c0-4d41-8cb7-d134c654ef9a",
   "metadata": {},
   "outputs": [],
   "source": []
  },
  {
   "cell_type": "code",
   "execution_count": null,
   "id": "05dbdefd-8341-4f0e-a141-85b95b8c38a1",
   "metadata": {},
   "outputs": [],
   "source": []
  },
  {
   "cell_type": "code",
   "execution_count": null,
   "id": "f3185839-f92f-4f2e-b292-5d25422cce42",
   "metadata": {},
   "outputs": [],
   "source": [
    "solution=Solution()\n",
    "solution.removeDuplicates(nums)"
   ]
  }
 ],
 "metadata": {
  "kernelspec": {
   "display_name": "Python 3 (ipykernel)",
   "language": "python",
   "name": "python3"
  },
  "language_info": {
   "codemirror_mode": {
    "name": "ipython",
    "version": 3
   },
   "file_extension": ".py",
   "mimetype": "text/x-python",
   "name": "python",
   "nbconvert_exporter": "python",
   "pygments_lexer": "ipython3",
   "version": "3.10.12"
  }
 },
 "nbformat": 4,
 "nbformat_minor": 5
}
