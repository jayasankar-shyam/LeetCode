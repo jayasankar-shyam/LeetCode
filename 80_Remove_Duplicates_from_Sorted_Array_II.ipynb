{
 "cells": [
  {
   "cell_type": "markdown",
   "id": "30e42c3a-ac46-4551-9ec6-2f55cf735fdf",
   "metadata": {},
   "source": [
    "Given an integer array nums sorted in non-decreasing order, remove some duplicates in-place such that each unique element appears at most twice. The relative order of the elements should be kept the same.\n",
    "\n",
    "Since it is impossible to change the length of the array in some languages, you must instead have the result be placed in the first part of the array nums. More formally, if there are k elements after removing the duplicates, then the first k elements of nums should hold the final result. It does not matter what you leave beyond the first k elements.\n",
    "\n",
    "Return k after placing the final result in the first k slots of nums.\n",
    "\n",
    "Do not allocate extra space for another array. You must do this by modifying the input array in-place with O(1) extra memory."
   ]
  },
  {
   "cell_type": "code",
   "execution_count": 2,
   "id": "ffde05ff-d0e8-4b1f-b34c-6139db68b2db",
   "metadata": {},
   "outputs": [],
   "source": [
    "nums=[0,0,1,1,1,1,2,3,3]"
   ]
  },
  {
   "cell_type": "code",
   "execution_count": 3,
   "id": "d44ab851-46c0-4d41-8cb7-d134c654ef9a",
   "metadata": {},
   "outputs": [],
   "source": [
    "class Solution(object):\n",
    "    def removeDuplicates(self, nums):\n",
    "        for i in range(0,len(nums)):\n",
    "            if len(nums)>i+1 and nums[i+1]==nums[i]:\n",
    "                j=i+1\n",
    "                while len(nums)>j+1 and nums[j]==nums[j+1] :\n",
    "                    j+=1\n",
    "                nums[i+2:]=nums[j+1:]\n",
    "        return(len(nums))"
   ]
  },
  {
   "cell_type": "code",
   "execution_count": 4,
   "id": "f3185839-f92f-4f2e-b292-5d25422cce42",
   "metadata": {},
   "outputs": [
    {
     "data": {
      "text/plain": [
       "7"
      ]
     },
     "execution_count": 4,
     "metadata": {},
     "output_type": "execute_result"
    }
   ],
   "source": [
    "solution=Solution()\n",
    "solution.removeDuplicates(nums)"
   ]
  },
  {
   "cell_type": "markdown",
   "id": "74d10a62-73d9-4a52-9996-8170a75b5ba8",
   "metadata": {},
   "source": [
    "<center><h1>Needs improvement in Runtime</h1> </center>"
   ]
  }
 ],
 "metadata": {
  "kernelspec": {
   "display_name": "Python 3 (ipykernel)",
   "language": "python",
   "name": "python3"
  },
  "language_info": {
   "codemirror_mode": {
    "name": "ipython",
    "version": 3
   },
   "file_extension": ".py",
   "mimetype": "text/x-python",
   "name": "python",
   "nbconvert_exporter": "python",
   "pygments_lexer": "ipython3",
   "version": "3.10.12"
  }
 },
 "nbformat": 4,
 "nbformat_minor": 5
}
