{
 "cells": [
  {
   "cell_type": "markdown",
   "id": "553e5798-5fa5-4bd6-8e38-07fc87369bc3",
   "metadata": {},
   "source": [
    "Given an integer array nums sorted in non-decreasing order, remove the duplicates in-place such that each unique element appears only once. The relative order of the elements should be kept the same. Then return the number of unique elements in nums.\n",
    "\n",
    "Consider the number of unique elements of nums to be k, to get accepted, you need to do the following things:\n",
    "\n",
    "Change the array nums such that the first k elements of nums contain the unique elements in the order they were present in nums initially. The remaining elements of nums are not important as well as the size of nums.\n",
    "Return k."
   ]
  },
  {
   "cell_type": "code",
   "execution_count": 73,
   "id": "f5e7cadd-4e87-4900-9b1d-e00424d56401",
   "metadata": {},
   "outputs": [],
   "source": [
    "nums=[0,0,1,1,1,1,2,3,3]"
   ]
  },
  {
   "cell_type": "code",
   "execution_count": 74,
   "id": "5c277a29-d81f-4a82-8c4f-8811248e20f0",
   "metadata": {},
   "outputs": [],
   "source": [
    "class Solution(object):\n",
    "    def removeDuplicates(self, nums):\n",
    "        for i in range(0,len(nums)):\n",
    "            if len(nums)>i+1 and nums[i+1]==nums[i]:\n",
    "                j=i+1\n",
    "                while len(nums)>j+1 and nums[j]==nums[j+1] :\n",
    "                    j+=1\n",
    "                nums[i+2:]=nums[j+1:]\n",
    "        return(len(nums))"
   ]
  },
  {
   "cell_type": "code",
   "execution_count": 75,
   "id": "5c41c2bb-a461-4a5f-ad1d-368deffa933b",
   "metadata": {},
   "outputs": [
    {
     "data": {
      "text/plain": [
       "7"
      ]
     },
     "execution_count": 75,
     "metadata": {},
     "output_type": "execute_result"
    }
   ],
   "source": [
    "solution=Solution()\n",
    "solution.removeDuplicates(nums)"
   ]
  }
 ],
 "metadata": {
  "kernelspec": {
   "display_name": "Python 3 (ipykernel)",
   "language": "python",
   "name": "python3"
  },
  "language_info": {
   "codemirror_mode": {
    "name": "ipython",
    "version": 3
   },
   "file_extension": ".py",
   "mimetype": "text/x-python",
   "name": "python",
   "nbconvert_exporter": "python",
   "pygments_lexer": "ipython3",
   "version": "3.10.12"
  }
 },
 "nbformat": 4,
 "nbformat_minor": 5
}
