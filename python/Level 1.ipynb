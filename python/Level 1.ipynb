{
 "cells": [
  {
   "cell_type": "markdown",
   "id": "0859cc1f",
   "metadata": {},
   "source": [
    "# Day 1"
   ]
  },
  {
   "cell_type": "markdown",
   "id": "041f05e7",
   "metadata": {},
   "source": [
    "## 1480. Running Sum of 1d Array\n",
    "Given an array nums. We define a running sum of an array as runningSum[i] = sum(nums[0]…nums[i]).\n",
    "\n",
    "Return the running sum of nums."
   ]
  },
  {
   "cell_type": "code",
   "execution_count": 19,
   "id": "6a0aff85",
   "metadata": {},
   "outputs": [],
   "source": [
    "nums=[1,2,3,4]\n",
    "runningSum=[nums[0]]\n",
    "for i in range(1,len(nums)):\n",
    "    runningSum.append(runningSum[i-1]+nums[i])"
   ]
  },
  {
   "cell_type": "markdown",
   "id": "cac79f17",
   "metadata": {},
   "source": [
    "## 724. Find Pivot Index\n",
    "Given an array of integers nums, calculate the pivot index of this array.\n",
    "\n",
    "The pivot index is the index where the sum of all the numbers strictly to the left of the index is equal to the sum of all the numbers strictly to the index's right.\n",
    "\n",
    "If the index is on the left edge of the array, then the left sum is 0 because there are no elements to the left. This also applies to the right edge of the array.\n",
    "\n",
    "Return the leftmost pivot index. If no such index exists, return -1.\n"
   ]
  },
  {
   "cell_type": "code",
   "execution_count": 17,
   "id": "a38c0a49",
   "metadata": {},
   "outputs": [],
   "source": [
    "nums=[2,1,-1]\n",
    "for i in range(0,len(nums)):\n",
    "    if(sum(nums[:i])==sum(nums[i+1:])):\n",
    "        pivot=i\n",
    "        break\n",
    "    else:\n",
    "        pivot=-1\n",
    "        "
   ]
  },
  {
   "cell_type": "markdown",
   "id": "e76dedf8",
   "metadata": {},
   "source": [
    "# Day 2"
   ]
  },
  {
   "cell_type": "markdown",
   "id": "8f507452",
   "metadata": {},
   "source": [
    "## 205. Isomorphic Strings\n",
    "\n",
    "Given two strings s and t, determine if they are isomorphic.\n",
    "\n",
    "Two strings s and t are isomorphic if the characters in s can be replaced to get t.\n",
    "\n",
    "All occurrences of a character must be replaced with another character while preserving the order of characters. No two characters may map to the same character, but a character may map to itself."
   ]
  },
  {
   "cell_type": "code",
   "execution_count": 1,
   "id": "3edb7128",
   "metadata": {},
   "outputs": [],
   "source": []
  },
  {
   "cell_type": "markdown",
   "id": "db695898",
   "metadata": {},
   "source": [
    "## 392. Is Subsequence\n",
    "Given two strings s and t, return true if s is a subsequence of t, or false otherwise.\n",
    "\n",
    "A subsequence of a string is a new string that is formed from the original string by deleting some (can be none) of the characters without disturbing the relative positions of the remaining characters. (i.e., \"ace\" is a subsequence of \"abcde\" while \"aec\" is not)."
   ]
  },
  {
   "cell_type": "code",
   "execution_count": 54,
   "id": "7e6b991b",
   "metadata": {},
   "outputs": [
    {
     "name": "stdout",
     "output_type": "stream",
     "text": [
      "True\n"
     ]
    }
   ],
   "source": [
    "s = \"ba\"\n",
    "t = \"abba\"\n",
    "new=''\n",
    "j=0\n",
    "i=0\n",
    "while j!=len(s) and i!=len(t):\n",
    "    if s[j]==t[i]:\n",
    "        new+=t[i]\n",
    "        t=t[i+1:]\n",
    "        j+=1\n",
    "        i=0\n",
    "    else:\n",
    "        i+=1\n",
    "if new==s:\n",
    "    print(True)\n",
    "else:\n",
    "    print(False)"
   ]
  }
 ],
 "metadata": {
  "kernelspec": {
   "display_name": "Python 3 (ipykernel)",
   "language": "python",
   "name": "python3"
  },
  "language_info": {
   "codemirror_mode": {
    "name": "ipython",
    "version": 3
   },
   "file_extension": ".py",
   "mimetype": "text/x-python",
   "name": "python",
   "nbconvert_exporter": "python",
   "pygments_lexer": "ipython3",
   "version": "3.10.6"
  }
 },
 "nbformat": 4,
 "nbformat_minor": 5
}
