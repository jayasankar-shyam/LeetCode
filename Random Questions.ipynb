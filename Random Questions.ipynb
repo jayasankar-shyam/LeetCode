{
 "cells": [
  {
   "cell_type": "markdown",
   "id": "73cd79f6",
   "metadata": {},
   "source": [
    "## 1672. Richest Customer Wealth\n",
    "\n",
    "You are given an m x n integer grid accounts where accounts[i][j] is the amount of money the i​​​​​​​​​​​th​​​​ customer has in the j​​​​​​​​​​​th​​​​ bank. Return the wealth that the richest customer has.\n",
    "\n",
    "A customer's wealth is the amount of money they have in all their bank accounts. The richest customer is the customer that has the maximum wealth."
   ]
  },
  {
   "cell_type": "code",
   "execution_count": 5,
   "id": "5b5ea955",
   "metadata": {},
   "outputs": [],
   "source": [
    "accounts = [[1,5],[7,3],[3,5]]\n",
    "l=0\n",
    "for acc in accounts:\n",
    "    if(sum(acc))>l:\n",
    "        l=sum(acc)"
   ]
  },
  {
   "cell_type": "markdown",
   "id": "1262c9ca",
   "metadata": {},
   "source": [
    "## 412. Fizz Buzz\n",
    "\n",
    "Given an integer n, return a string array answer (1-indexed) where:\n",
    "\n",
    "- answer[i] == \"FizzBuzz\" if i is divisible by 3 and 5.\n",
    "- answer[i] == \"Fizz\" if i is divisible by 3.\n",
    "- answer[i] == \"Buzz\" if i is divisible by 5.\n",
    "- answer[i] == i (as a string) if none of the above conditions are true."
   ]
  },
  {
   "cell_type": "code",
   "execution_count": 41,
   "id": "cd72fce0",
   "metadata": {},
   "outputs": [],
   "source": [
    "n=3\n",
    "answer=[]\n",
    "for i in range(1,n+1):\n",
    "    if(i%3==0):\n",
    "        if(i%5==0):\n",
    "            answer.append(\"FizzBuzz\")\n",
    "        else:\n",
    "            answer.append(\"Fizz\")\n",
    "    elif(i%5==0):\n",
    "        answer.append(\"Buzz\")\n",
    "    else:\n",
    "        answer.append(str(i))"
   ]
  },
  {
   "cell_type": "code",
   "execution_count": 47,
   "id": "d4bcf531",
   "metadata": {},
   "outputs": [
    {
     "data": {
      "text/plain": [
       "['1', '2', 'Fizz', '1', '1', '1']"
      ]
     },
     "execution_count": 47,
     "metadata": {},
     "output_type": "execute_result"
    }
   ],
   "source": [
    "answer"
   ]
  },
  {
   "cell_type": "code",
   "execution_count": 54,
   "id": "faca9b30",
   "metadata": {},
   "outputs": [],
   "source": [
    "class Solution(object):\n",
    "    def fizzBuzz(self, n):\n",
    "        answer=[]\n",
    "        for i in range(1,n+1):\n",
    "            if(i%3==0):\n",
    "                if(i%5==0):\n",
    "                    answer.append(\"FizzBuzz\")\n",
    "                else:\n",
    "                    answer.append(\"Fizz\")\n",
    "            elif(i%5==0):\n",
    "                answer.append(\"Buzz\")\n",
    "            else:\n",
    "                answer.append(str(i))\n",
    "        return answer\n"
   ]
  },
  {
   "cell_type": "code",
   "execution_count": 55,
   "id": "d19d8d72",
   "metadata": {},
   "outputs": [
    {
     "ename": "TypeError",
     "evalue": "Solution.fizzBuzz() missing 1 required positional argument: 'n'",
     "output_type": "error",
     "traceback": [
      "\u001b[0;31m---------------------------------------------------------------------------\u001b[0m",
      "\u001b[0;31mTypeError\u001b[0m                                 Traceback (most recent call last)",
      "\u001b[0;32m/tmp/ipykernel_22681/649440995.py\u001b[0m in \u001b[0;36m<module>\u001b[0;34m\u001b[0m\n\u001b[0;32m----> 1\u001b[0;31m \u001b[0mSolution\u001b[0m\u001b[0;34m.\u001b[0m\u001b[0mfizzBuzz\u001b[0m\u001b[0;34m(\u001b[0m\u001b[0;36m15\u001b[0m\u001b[0;34m)\u001b[0m\u001b[0;34m\u001b[0m\u001b[0;34m\u001b[0m\u001b[0m\n\u001b[0m",
      "\u001b[0;31mTypeError\u001b[0m: Solution.fizzBuzz() missing 1 required positional argument: 'n'"
     ]
    }
   ],
   "source": [
    "Solution.fizzBuzz(15)"
   ]
  },
  {
   "cell_type": "code",
   "execution_count": null,
   "id": "73179211",
   "metadata": {},
   "outputs": [],
   "source": []
  },
  {
   "cell_type": "code",
   "execution_count": null,
   "id": "23c00a1e",
   "metadata": {},
   "outputs": [],
   "source": []
  }
 ],
 "metadata": {
  "kernelspec": {
   "display_name": "Python 3 (ipykernel)",
   "language": "python",
   "name": "python3"
  },
  "language_info": {
   "codemirror_mode": {
    "name": "ipython",
    "version": 3
   },
   "file_extension": ".py",
   "mimetype": "text/x-python",
   "name": "python",
   "nbconvert_exporter": "python",
   "pygments_lexer": "ipython3",
   "version": "3.10.4"
  }
 },
 "nbformat": 4,
 "nbformat_minor": 5
}
