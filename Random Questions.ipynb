{
 "cells": [
  {
   "cell_type": "markdown",
   "id": "73cd79f6",
   "metadata": {},
   "source": [
    "## 1672. Richest Customer Wealth\n",
    "\n",
    "You are given an m x n integer grid accounts where accounts[i][j] is the amount of money the i​​​​​​​​​​​th​​​​ customer has in the j​​​​​​​​​​​th​​​​ bank. Return the wealth that the richest customer has.\n",
    "\n",
    "A customer's wealth is the amount of money they have in all their bank accounts. The richest customer is the customer that has the maximum wealth."
   ]
  },
  {
   "cell_type": "code",
   "execution_count": 5,
   "id": "5b5ea955",
   "metadata": {},
   "outputs": [],
   "source": [
    "accounts = [[1,5],[7,3],[3,5]]\n",
    "l=0\n",
    "for acc in accounts:\n",
    "    if(sum(acc))>l:\n",
    "        l=sum(acc)"
   ]
  },
  {
   "cell_type": "markdown",
   "id": "1262c9ca",
   "metadata": {},
   "source": [
    "## 412. Fizz Buzz\n",
    "\n",
    "Given an integer n, return a string array answer (1-indexed) where:\n",
    "\n",
    "- answer[i] == \"FizzBuzz\" if i is divisible by 3 and 5.\n",
    "- answer[i] == \"Fizz\" if i is divisible by 3.\n",
    "- answer[i] == \"Buzz\" if i is divisible by 5.\n",
    "- answer[i] == i (as a string) if none of the above conditions are true."
   ]
  },
  {
   "cell_type": "code",
   "execution_count": 41,
   "id": "cd72fce0",
   "metadata": {},
   "outputs": [],
   "source": [
    "n=3\n",
    "answer=[]\n",
    "for i in range(1,n+1):\n",
    "    if(i%3==0):\n",
    "        if(i%5==0):\n",
    "            answer.append(\"FizzBuzz\")\n",
    "        else:\n",
    "            answer.append(\"Fizz\")\n",
    "    elif(i%5==0):\n",
    "        answer.append(\"Buzz\")\n",
    "    else:\n",
    "        answer.append(str(i))"
   ]
  },
  {
   "cell_type": "markdown",
   "id": "20287d2b",
   "metadata": {},
   "source": [
    "## 1342. Number of Steps to Reduce a Number to Zero\n",
    "\n",
    "Given an integer num, return the number of steps to reduce it to zero.\n",
    "\n",
    "In one step, if the current number is even, you have to divide it by 2, otherwise, you have to subtract 1 from it."
   ]
  },
  {
   "cell_type": "code",
   "execution_count": 2,
   "id": "73b67832",
   "metadata": {},
   "outputs": [],
   "source": [
    "n=14\n",
    "step=0\n",
    "while(n!=0):\n",
    "    if(n%2==0):\n",
    "        n/=2\n",
    "    else:\n",
    "        n-=1\n",
    "    step+=1"
   ]
  },
  {
   "cell_type": "markdown",
   "id": "64522ee5",
   "metadata": {},
   "source": []
  },
  {
   "cell_type": "code",
   "execution_count": 49,
   "id": "5e9bf417",
   "metadata": {},
   "outputs": [
    {
     "name": "stdout",
     "output_type": "stream",
     "text": [
      "False\n"
     ]
    }
   ],
   "source": [
    "ransomNote = \"aa\"\n",
    "magazine = \"ab\"\n",
    "for i in magazine:\n",
    "    if i in ransomNote:\n",
    "        magazine=magazine.replace(i,'',1)\n",
    "        ransomNote=ransomNote.replace(i,'',1)\n",
    "if ransomNote=='':\n",
    "    print (True)\n",
    "else:\n",
    "    print (False)"
   ]
  },
  {
   "cell_type": "code",
   "execution_count": 29,
   "id": "b641fc3f",
   "metadata": {},
   "outputs": [
    {
     "data": {
      "text/plain": [
       "'b'"
      ]
     },
     "execution_count": 29,
     "metadata": {},
     "output_type": "execute_result"
    }
   ],
   "source": [
    "magazine.replace('a','',1)"
   ]
  },
  {
   "cell_type": "code",
   "execution_count": 44,
   "id": "62b51c98",
   "metadata": {},
   "outputs": [
    {
     "data": {
      "text/plain": [
       "''"
      ]
     },
     "execution_count": 44,
     "metadata": {},
     "output_type": "execute_result"
    }
   ],
   "source": [
    "ransomNote"
   ]
  },
  {
   "cell_type": "code",
   "execution_count": 45,
   "id": "39204e94",
   "metadata": {},
   "outputs": [
    {
     "data": {
      "text/plain": [
       "'b'"
      ]
     },
     "execution_count": 45,
     "metadata": {},
     "output_type": "execute_result"
    }
   ],
   "source": [
    "magazine"
   ]
  },
  {
   "cell_type": "code",
   "execution_count": null,
   "id": "56128211",
   "metadata": {},
   "outputs": [],
   "source": []
  }
 ],
 "metadata": {
  "kernelspec": {
   "display_name": "Python 3 (ipykernel)",
   "language": "python",
   "name": "python3"
  },
  "language_info": {
   "codemirror_mode": {
    "name": "ipython",
    "version": 3
   },
   "file_extension": ".py",
   "mimetype": "text/x-python",
   "name": "python",
   "nbconvert_exporter": "python",
   "pygments_lexer": "ipython3",
   "version": "3.10.6"
  }
 },
 "nbformat": 4,
 "nbformat_minor": 5
}
