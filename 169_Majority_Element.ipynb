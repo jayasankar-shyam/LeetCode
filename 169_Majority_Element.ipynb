{
 "cells": [
  {
   "cell_type": "markdown",
   "id": "2d09335d-4a92-4ecf-bf1a-3b8cb7e696ad",
   "metadata": {},
   "source": [
    "Given an array nums of size n, return the majority element.\n",
    "\n",
    "The majority element is the element that appears more than ⌊n / 2⌋ times. You may assume that the majority element always exists in the array."
   ]
  },
  {
   "cell_type": "code",
   "execution_count": 51,
   "id": "3c5734db-e7ac-458e-b9ba-c16b3fc65513",
   "metadata": {},
   "outputs": [],
   "source": [
    "nums=[-1,1,1,1,2,1]"
   ]
  },
  {
   "cell_type": "code",
   "execution_count": 52,
   "id": "da4a3ac0-c402-4323-887f-45cad0930680",
   "metadata": {},
   "outputs": [],
   "source": [
    "class Solution(object):\n",
    "    def majorityElement(self, nums):\n",
    "        nums.sort()\n",
    "        count=0\n",
    "        n=0\n",
    "        a=list(set(nums))\n",
    "        a.sort()\n",
    "        for i in a:\n",
    "            t=0\n",
    "            for j in range(n,len(nums)):\n",
    "                if nums[j]==i:\n",
    "                    t+=1\n",
    "                else:\n",
    "                    n=j\n",
    "                    break\n",
    "            if t>count:\n",
    "                count=t\n",
    "                index=j-1\n",
    "        return(nums[index])"
   ]
  },
  {
   "cell_type": "code",
   "execution_count": 53,
   "id": "ffca3242-cf0c-46ec-ae7b-605327a5668a",
   "metadata": {},
   "outputs": [
    {
     "data": {
      "text/plain": [
       "1"
      ]
     },
     "execution_count": 53,
     "metadata": {},
     "output_type": "execute_result"
    }
   ],
   "source": [
    "solution=Solution()\n",
    "solution.majorityElement(nums)"
   ]
  },
  {
   "cell_type": "code",
   "execution_count": null,
   "id": "2535d691-4063-4218-a2f7-57b9c73ec512",
   "metadata": {},
   "outputs": [],
   "source": [
    "<center><h1>Needs improvement in Memory</h1> </center>"
   ]
  }
 ],
 "metadata": {
  "kernelspec": {
   "display_name": "Python 3 (ipykernel)",
   "language": "python",
   "name": "python3"
  },
  "language_info": {
   "codemirror_mode": {
    "name": "ipython",
    "version": 3
   },
   "file_extension": ".py",
   "mimetype": "text/x-python",
   "name": "python",
   "nbconvert_exporter": "python",
   "pygments_lexer": "ipython3",
   "version": "3.10.12"
  }
 },
 "nbformat": 4,
 "nbformat_minor": 5
}
